{
  "cells": [
    {
      "cell_type": "code",
      "source": [
        "install.packages(\"\")"
      ],
      "metadata": {
        "id": "5iRDrhQY7PYy",
        "colab": {
          "base_uri": "https://localhost:8080/"
        },
        "outputId": "a27a0876-3de2-4dd6-e43b-749b22668980"
      },
      "execution_count": 1,
      "outputs": [
        {
          "output_type": "stream",
          "name": "stderr",
          "text": [
            "Installing package into ‘/usr/local/lib/R/site-library’\n",
            "(as ‘lib’ is unspecified)\n",
            "\n",
            "Warning message:\n",
            "“package ‘’ is not available for this version of R\n",
            "\n",
            "A version of this package for your version of R might be available elsewhere,\n",
            "see the ideas at\n",
            "https://cran.r-project.org/doc/manuals/r-patched/R-admin.html#Installing-packages”\n"
          ]
        }
      ]
    },
    {
      "cell_type": "code",
      "execution_count": 2,
      "metadata": {
        "colab": {
          "base_uri": "https://localhost:8080/"
        },
        "id": "ghFFF5PaZvzI",
        "outputId": "8a55a5ed-88d4-44f8-d748-cf48a2899333"
      },
      "outputs": [
        {
          "output_type": "stream",
          "name": "stderr",
          "text": [
            "Installing package into ‘/usr/local/lib/R/site-library’\n",
            "(as ‘lib’ is unspecified)\n",
            "\n",
            "also installing the dependencies ‘R.oo’, ‘R.methodsS3’\n",
            "\n",
            "\n",
            "Loading required package: R.oo\n",
            "\n",
            "Loading required package: R.methodsS3\n",
            "\n",
            "R.methodsS3 v1.8.2 (2022-06-13 22:00:14 UTC) successfully loaded. See ?R.methodsS3 for help.\n",
            "\n",
            "R.oo v1.27.1 (2025-05-02 21:00:05 UTC) successfully loaded. See ?R.oo for help.\n",
            "\n",
            "\n",
            "Attaching package: ‘R.oo’\n",
            "\n",
            "\n",
            "The following object is masked from ‘package:R.methodsS3’:\n",
            "\n",
            "    throw\n",
            "\n",
            "\n",
            "The following objects are masked from ‘package:methods’:\n",
            "\n",
            "    getClasses, getMethods\n",
            "\n",
            "\n",
            "The following objects are masked from ‘package:base’:\n",
            "\n",
            "    attach, detach, load, save\n",
            "\n",
            "\n",
            "R.utils v2.13.0 (2025-02-24 21:20:02 UTC) successfully loaded. See ?R.utils for help.\n",
            "\n",
            "\n",
            "Attaching package: ‘R.utils’\n",
            "\n",
            "\n",
            "The following object is masked from ‘package:utils’:\n",
            "\n",
            "    timestamp\n",
            "\n",
            "\n",
            "The following objects are masked from ‘package:base’:\n",
            "\n",
            "    cat, commandArgs, getOption, isOpen, nullfile, parse, use, warnings\n",
            "\n",
            "\n",
            "Installing package into ‘/usr/local/lib/R/site-library’\n",
            "(as ‘lib’ is unspecified)\n",
            "\n"
          ]
        }
      ],
      "source": [
        "#Loading required packages----\n",
        "install.packages(\"R.utils\")\n",
        "library(R.utils)\n",
        "\n",
        "if (!require(\"BiocManager\", quietly = TRUE))\n",
        "install.packages(\"BiocManager\")"
      ]
    },
    {
      "cell_type": "code",
      "execution_count": 3,
      "metadata": {
        "colab": {
          "base_uri": "https://localhost:8080/"
        },
        "id": "URD5-EJla94D",
        "outputId": "13487162-f7a2-4cd3-fd51-24d1e753a34a"
      },
      "outputs": [
        {
          "output_type": "stream",
          "name": "stderr",
          "text": [
            "'getOption(\"repos\")' replaces Bioconductor standard repositories, see\n",
            "'help(\"repositories\", package = \"BiocManager\")' for details.\n",
            "Replacement repositories:\n",
            "    CRAN: https://cran.rstudio.com\n",
            "\n",
            "Bioconductor version 3.21 (BiocManager 1.30.26), R 4.5.0 (2025-04-11)\n",
            "\n",
            "Installing package(s) 'BiocVersion', 'Rsubread'\n",
            "\n",
            "Old packages: 'data.table'\n",
            "\n"
          ]
        }
      ],
      "source": [
        "# Install Rsubread using BiocManager\n",
        "BiocManager::install(\"Rsubread\")"
      ]
    },
    {
      "cell_type": "code",
      "execution_count": 4,
      "metadata": {
        "id": "DtVOrwWnbGmh"
      },
      "outputs": [],
      "source": [
        "# BiocManager::install(\"Rsubread\")\n",
        "library(Rsubread)"
      ]
    },
    {
      "cell_type": "code",
      "execution_count": 5,
      "metadata": {
        "colab": {
          "base_uri": "https://localhost:8080/"
        },
        "id": "kCfy1V3-bDsv",
        "outputId": "1385eddd-7316-4307-b4e5-4abe674b1fb3"
      },
      "outputs": [
        {
          "output_type": "stream",
          "name": "stderr",
          "text": [
            "Installing package into ‘/usr/local/lib/R/site-library’\n",
            "(as ‘lib’ is unspecified)\n",
            "\n"
          ]
        }
      ],
      "source": [
        "# Install and load data.table package\n",
        "install.packages(\"data.table\")"
      ]
    },
    {
      "cell_type": "code",
      "execution_count": 6,
      "metadata": {
        "id": "2puq3nC0ZxhA"
      },
      "outputs": [],
      "source": [
        "library(data.table)"
      ]
    },
    {
      "cell_type": "markdown",
      "metadata": {
        "id": "EzOdKgt6Z1dn"
      },
      "source": [
        "# if (!require(\"BiocManager\", quietly = TRUE))\n",
        "#   install.packages(\"BiocManager\")\n",
        "#\n",
        "BiocManager::install(\"RUVSeq\")\n",
        "library(RUVSeq)"
      ]
    },
    {
      "cell_type": "code",
      "execution_count": 7,
      "metadata": {
        "colab": {
          "base_uri": "https://localhost:8080/"
        },
        "id": "P5r5iephcvr4",
        "outputId": "2624b9e8-d6f2-4f0e-9ef5-a447c906f3eb"
      },
      "outputs": [
        {
          "output_type": "stream",
          "name": "stderr",
          "text": [
            "'getOption(\"repos\")' replaces Bioconductor standard repositories, see\n",
            "'help(\"repositories\", package = \"BiocManager\")' for details.\n",
            "Replacement repositories:\n",
            "    CRAN: https://cran.rstudio.com\n",
            "\n",
            "Bioconductor version 3.21 (BiocManager 1.30.26), R 4.5.0 (2025-04-11)\n",
            "\n",
            "Installing package(s) 'RUVSeq'\n",
            "\n",
            "also installing the dependencies ‘formatR’, ‘abind’, ‘SparseArray’, ‘lambda.r’, ‘futile.options’, ‘MatrixGenerics’, ‘S4Arrays’, ‘DelayedArray’, ‘deldir’, ‘RcppEigen’, ‘RCurl’, ‘rjson’, ‘futile.logger’, ‘snow’, ‘BH’, ‘SummarizedExperiment’, ‘UCSC.utils’, ‘GenomeInfoDbData’, ‘png’, ‘jpeg’, ‘interp’, ‘filelock’, ‘plogr’, ‘XML’, ‘BiocIO’, ‘restfulr’, ‘BiocParallel’, ‘GenomicAlignments’, ‘S4Vectors’, ‘GenomeInfoDb’, ‘pwalign’, ‘hwriter’, ‘latticeExtra’, ‘XVector’, ‘Rhtslib’, ‘matrixStats’, ‘bitops’, ‘BiocFileCache’, ‘RSQLite’, ‘KEGGREST’, ‘rtracklayer’, ‘statmod’, ‘BiocGenerics’, ‘ShortRead’, ‘IRanges’, ‘aroma.light’, ‘Rsamtools’, ‘biomaRt’, ‘Biostrings’, ‘AnnotationDbi’, ‘GenomicFeatures’, ‘GenomicRanges’, ‘limma’, ‘locfit’, ‘Biobase’, ‘EDASeq’, ‘edgeR’\n",
            "\n",
            "\n",
            "Old packages: 'data.table'\n",
            "\n",
            "Loading required package: Biobase\n",
            "\n",
            "Loading required package: BiocGenerics\n",
            "\n",
            "Loading required package: generics\n",
            "\n",
            "\n",
            "Attaching package: ‘generics’\n",
            "\n",
            "\n",
            "The following object is masked from ‘package:R.utils’:\n",
            "\n",
            "    evaluate\n",
            "\n",
            "\n",
            "The following object is masked from ‘package:R.oo’:\n",
            "\n",
            "    compile\n",
            "\n",
            "\n",
            "The following objects are masked from ‘package:base’:\n",
            "\n",
            "    as.difftime, as.factor, as.ordered, intersect, is.element, setdiff,\n",
            "    setequal, union\n",
            "\n",
            "\n",
            "\n",
            "Attaching package: ‘BiocGenerics’\n",
            "\n",
            "\n",
            "The following objects are masked from ‘package:stats’:\n",
            "\n",
            "    IQR, mad, sd, var, xtabs\n",
            "\n",
            "\n",
            "The following objects are masked from ‘package:base’:\n",
            "\n",
            "    anyDuplicated, aperm, append, as.data.frame, basename, cbind,\n",
            "    colnames, dirname, do.call, duplicated, eval, evalq, Filter, Find,\n",
            "    get, grep, grepl, is.unsorted, lapply, Map, mapply, match, mget,\n",
            "    order, paste, pmax, pmax.int, pmin, pmin.int, Position, rank,\n",
            "    rbind, Reduce, rownames, sapply, saveRDS, table, tapply, unique,\n",
            "    unsplit, which.max, which.min\n",
            "\n",
            "\n",
            "Welcome to Bioconductor\n",
            "\n",
            "    Vignettes contain introductory material; view with\n",
            "    'browseVignettes()'. To cite Bioconductor, see\n",
            "    'citation(\"Biobase\")', and for packages 'citation(\"pkgname\")'.\n",
            "\n",
            "\n",
            "Loading required package: EDASeq\n",
            "\n",
            "Loading required package: ShortRead\n",
            "\n",
            "Loading required package: BiocParallel\n",
            "\n",
            "Loading required package: Biostrings\n",
            "\n",
            "Loading required package: S4Vectors\n",
            "\n",
            "Loading required package: stats4\n",
            "\n",
            "\n",
            "Attaching package: ‘S4Vectors’\n",
            "\n",
            "\n",
            "The following objects are masked from ‘package:data.table’:\n",
            "\n",
            "    first, second\n",
            "\n",
            "\n",
            "The following object is masked from ‘package:utils’:\n",
            "\n",
            "    findMatches\n",
            "\n",
            "\n",
            "The following objects are masked from ‘package:base’:\n",
            "\n",
            "    expand.grid, I, unname\n",
            "\n",
            "\n",
            "Loading required package: IRanges\n",
            "\n",
            "\n",
            "Attaching package: ‘IRanges’\n",
            "\n",
            "\n",
            "The following object is masked from ‘package:data.table’:\n",
            "\n",
            "    shift\n",
            "\n",
            "\n",
            "The following object is masked from ‘package:R.oo’:\n",
            "\n",
            "    trim\n",
            "\n",
            "\n",
            "Loading required package: XVector\n",
            "\n",
            "Loading required package: GenomeInfoDb\n",
            "\n",
            "\n",
            "Attaching package: ‘Biostrings’\n",
            "\n",
            "\n",
            "The following object is masked from ‘package:base’:\n",
            "\n",
            "    strsplit\n",
            "\n",
            "\n",
            "Loading required package: Rsamtools\n",
            "\n",
            "Loading required package: GenomicRanges\n",
            "\n",
            "Loading required package: GenomicAlignments\n",
            "\n",
            "Loading required package: SummarizedExperiment\n",
            "\n",
            "Loading required package: MatrixGenerics\n",
            "\n",
            "Loading required package: matrixStats\n",
            "\n",
            "\n",
            "Attaching package: ‘matrixStats’\n",
            "\n",
            "\n",
            "The following objects are masked from ‘package:Biobase’:\n",
            "\n",
            "    anyMissing, rowMedians\n",
            "\n",
            "\n",
            "\n",
            "Attaching package: ‘MatrixGenerics’\n",
            "\n",
            "\n",
            "The following objects are masked from ‘package:matrixStats’:\n",
            "\n",
            "    colAlls, colAnyNAs, colAnys, colAvgsPerRowSet, colCollapse,\n",
            "    colCounts, colCummaxs, colCummins, colCumprods, colCumsums,\n",
            "    colDiffs, colIQRDiffs, colIQRs, colLogSumExps, colMadDiffs,\n",
            "    colMads, colMaxs, colMeans2, colMedians, colMins, colOrderStats,\n",
            "    colProds, colQuantiles, colRanges, colRanks, colSdDiffs, colSds,\n",
            "    colSums2, colTabulates, colVarDiffs, colVars, colWeightedMads,\n",
            "    colWeightedMeans, colWeightedMedians, colWeightedSds,\n",
            "    colWeightedVars, rowAlls, rowAnyNAs, rowAnys, rowAvgsPerColSet,\n",
            "    rowCollapse, rowCounts, rowCummaxs, rowCummins, rowCumprods,\n",
            "    rowCumsums, rowDiffs, rowIQRDiffs, rowIQRs, rowLogSumExps,\n",
            "    rowMadDiffs, rowMads, rowMaxs, rowMeans2, rowMedians, rowMins,\n",
            "    rowOrderStats, rowProds, rowQuantiles, rowRanges, rowRanks,\n",
            "    rowSdDiffs, rowSds, rowSums2, rowTabulates, rowVarDiffs, rowVars,\n",
            "    rowWeightedMads, rowWeightedMeans, rowWeightedMedians,\n",
            "    rowWeightedSds, rowWeightedVars\n",
            "\n",
            "\n",
            "The following object is masked from ‘package:Biobase’:\n",
            "\n",
            "    rowMedians\n",
            "\n",
            "\n",
            "\n",
            "Attaching package: ‘GenomicAlignments’\n",
            "\n",
            "\n",
            "The following object is masked from ‘package:data.table’:\n",
            "\n",
            "    last\n",
            "\n",
            "\n",
            "\n",
            "Attaching package: ‘ShortRead’\n",
            "\n",
            "\n",
            "The following object is masked from ‘package:data.table’:\n",
            "\n",
            "    tables\n",
            "\n",
            "\n",
            "The following object is masked from ‘package:R.utils’:\n",
            "\n",
            "    countLines\n",
            "\n",
            "\n",
            "Loading required package: edgeR\n",
            "\n",
            "Loading required package: limma\n",
            "\n",
            "\n",
            "Attaching package: ‘limma’\n",
            "\n",
            "\n",
            "The following object is masked from ‘package:BiocGenerics’:\n",
            "\n",
            "    plotMA\n",
            "\n",
            "\n"
          ]
        }
      ],
      "source": [
        "# Try installing RUVSeq using BiocManager first (recommended)\n",
        "if (!requireNamespace(\"BiocManager\", quietly = TRUE))\n",
        "    install.packages(\"BiocManager\")\n",
        "\n",
        "BiocManager::install(\"RUVSeq\")\n",
        " # Load the package\n",
        "library(RUVSeq)"
      ]
    },
    {
      "cell_type": "code",
      "execution_count": 8,
      "metadata": {
        "colab": {
          "base_uri": "https://localhost:8080/"
        },
        "id": "7akhXvVT_t_z",
        "outputId": "b36bd962-1bc2-4ff4-d149-554d5e5e0ff7"
      },
      "outputs": [
        {
          "output_type": "stream",
          "name": "stderr",
          "text": [
            "Installing package into ‘/usr/local/lib/R/site-library’\n",
            "(as ‘lib’ is unspecified)\n",
            "\n",
            "'getOption(\"repos\")' replaces Bioconductor standard repositories, see\n",
            "'help(\"repositories\", package = \"BiocManager\")' for details.\n",
            "Replacement repositories:\n",
            "    CRAN: https://cran.rstudio.com\n",
            "\n",
            "Bioconductor version 3.21 (BiocManager 1.30.26), R 4.5.0 (2025-04-11)\n",
            "\n",
            "Installing package(s) 'DESeq2'\n",
            "\n",
            "also installing the dependency ‘RcppArmadillo’\n",
            "\n",
            "\n",
            "Old packages: 'data.table'\n",
            "\n"
          ]
        }
      ],
      "source": [
        "# if (!require(\"BiocManager\", quietly = TRUE))\n",
        "   install.packages(\"BiocManager\")\n",
        "\n",
        "BiocManager::install(\"DESeq2\")\n",
        "library(DESeq2)"
      ]
    },
    {
      "cell_type": "code",
      "execution_count": 9,
      "metadata": {
        "colab": {
          "base_uri": "https://localhost:8080/"
        },
        "id": "y-D5-C5ccyfY",
        "outputId": "c90c2f76-0ad6-47bc-dcb4-301138666cd3"
      },
      "outputs": [
        {
          "output_type": "stream",
          "name": "stderr",
          "text": [
            "'getOption(\"repos\")' replaces Bioconductor standard repositories, see\n",
            "'help(\"repositories\", package = \"BiocManager\")' for details.\n",
            "Replacement repositories:\n",
            "    CRAN: https://cran.rstudio.com\n",
            "\n",
            "Bioconductor version 3.21 (BiocManager 1.30.26), R 4.5.0 (2025-04-11)\n",
            "\n",
            "Installing package(s) 'EnhancedVolcano'\n",
            "\n",
            "also installing the dependency ‘ggrepel’\n",
            "\n",
            "\n",
            "Old packages: 'data.table'\n",
            "\n",
            "Loading required package: ggplot2\n",
            "\n",
            "Loading required package: ggrepel\n",
            "\n"
          ]
        }
      ],
      "source": [
        "# if (!requireNamespace('BiocManager', quietly = TRUE))\n",
        "#   install.packages('BiocManager')\n",
        "#\n",
        "BiocManager::install('EnhancedVolcano')\n",
        "library(EnhancedVolcano)"
      ]
    },
    {
      "cell_type": "code",
      "execution_count": 10,
      "metadata": {
        "colab": {
          "base_uri": "https://localhost:8080/"
        },
        "id": "LFkUoeMFiAgY",
        "outputId": "ab090a3d-0059-478b-d564-15c157f22f9a"
      },
      "outputs": [
        {
          "output_type": "stream",
          "name": "stderr",
          "text": [
            "Installing package into ‘/usr/local/lib/R/site-library’\n",
            "(as ‘lib’ is unspecified)\n",
            "\n"
          ]
        }
      ],
      "source": [
        "install.packages(\"pheatmap\")"
      ]
    },
    {
      "cell_type": "code",
      "execution_count": 11,
      "metadata": {
        "id": "8zyeAwNac1Wh"
      },
      "outputs": [],
      "source": [
        "#install.packages(\"pheatmap\")\n",
        "library(pheatmap)\n",
        "\n",
        "#install.packages(\"RColorBrewer\")\n",
        "library(RColorBrewer)\n",
        "\n",
        "#install.packages(\"ggplot2\")\n",
        "library(ggplot2)"
      ]
    },
    {
      "cell_type": "code",
      "source": [
        "read.csv <- \"/content/GSE149614_HCC.metadata.updated.csv\""
      ],
      "metadata": {
        "id": "6mGNWQhBAd9u"
      },
      "execution_count": 12,
      "outputs": []
    },
    {
      "cell_type": "code",
      "execution_count": 13,
      "metadata": {
        "id": "lmtuxeiBGD1p"
      },
      "outputs": [],
      "source": [
        "# Downloading FASTQ files for ERR12268342\n",
        "url <- \"ftp://ftp.sra.ebi.ac.uk/vol1/run/ERR122/ERR12268342/2018_AM_1_S77_R1.fastq.gz\"\n",
        "destination <- \"ERR12268342_1.fastq.gz\"\n",
        "download.file(url, destination)\n",
        "\n",
        "url <- \"ftp://ftp.sra.ebi.ac.uk/vol1/run/ERR122/ERR12268342/2018_AM_1_S77_R2.fastq.gz\"\n",
        "destination <- \"ERR12268342_2.fastq.gz\"\n",
        "download.file(url, destination)\n",
        "\n",
        "#Downloading FASTQ files for ERR12268341\n",
        "url <- \"ftp://ftp.sra.ebi.ac.uk/vol1/run/ERR122/ERR12268341/2018_AM-7_S64_R1_001.fastq.gz\"\n",
        "destination <- \"ERR12268341_1.fastq.gz\"\n",
        "download.file(url, destination)\n",
        "\n",
        "url <- \"ftp://ftp.sra.ebi.ac.uk/vol1/run/ERR122/ERR12268341/2018_AM-7_S64_R2_001.fastq.gz\"\n",
        "destination <- \"ERR12268341_2.fastq.gz\"\n",
        "download.file(url, destination)\n",
        "\n"
      ]
    },
    {
      "cell_type": "code",
      "execution_count": 14,
      "metadata": {
        "id": "YKmZ0b7nHFhh"
      },
      "outputs": [],
      "source": [
        "# Downloading Genome file ----\n",
        "url <- \"https://ftp.ncbi.nlm.nih.gov/genomes/all/GCF/000/195/955/GCF_000195955.2_ASM19595v2/GCF_000195955.2_ASM19595v2_genomic.fna.gz\"\n",
        "destination <- \"Mycobacterium_tuberculosis_H37Rv_genome.fna.gz\"\n",
        "download.file(url, destination)\n",
        "\n",
        "# Unzipping genome file\n",
        "R.utils::gunzip(destination, overwrite = TRUE)\n"
      ]
    },
    {
      "cell_type": "code",
      "execution_count": 15,
      "metadata": {
        "id": "l4zpSVlBHH3f"
      },
      "outputs": [],
      "source": [
        "# Downloading Annotation file ----\n",
        "url <- \"https://ftp.ncbi.nlm.nih.gov/genomes/all/GCF/000/195/955/GCF_000195955.2_ASM19595v2/GCF_000195955.2_ASM19595v2_genomic.gff.gz\"\n",
        "destination <- \"Mycobacterium_tuberculosis_H37Rv_annotation.gff.gz\"\n",
        "download.file(url, destination)\n",
        "\n",
        "# Unzipping annotation file\n",
        "R.utils::gunzip(destination, overwrite = TRUE)\n"
      ]
    },
    {
      "cell_type": "code",
      "execution_count": 16,
      "metadata": {
        "colab": {
          "base_uri": "https://localhost:8080/"
        },
        "id": "1mb-ThjULxJf",
        "outputId": "f66c4254-dcc7-4f54-d1ea-9dddbf8f2ba4"
      },
      "outputs": [
        {
          "output_type": "stream",
          "name": "stderr",
          "text": [
            "Installing package into ‘/usr/local/lib/R/site-library’\n",
            "(as ‘lib’ is unspecified)\n",
            "\n",
            "also installing the dependency ‘gridExtra’\n",
            "\n",
            "\n"
          ]
        }
      ],
      "source": [
        "install.packages(\"fastqcr\")"
      ]
    },
    {
      "cell_type": "code",
      "execution_count": 17,
      "metadata": {
        "colab": {
          "base_uri": "https://localhost:8080/",
          "height": 1000
        },
        "id": "bRrX9xC2c_iP",
        "outputId": "3dc24d4c-7d98-432b-f8e2-055bb6d2b815"
      },
      "outputs": [
        {
          "output_type": "stream",
          "name": "stderr",
          "text": [
            "Installing package into ‘/usr/local/lib/R/site-library’\n",
            "(as ‘lib’ is unspecified)\n",
            "\n",
            "Aggregating FastQC Outputs \n",
            "\n",
            "\n"
          ]
        },
        {
          "output_type": "stream",
          "name": "stdout",
          "text": [
            "\r  |                                                                            \r  |                                                                      |   0%"
          ]
        },
        {
          "output_type": "stream",
          "name": "stderr",
          "text": [
            "\u001b[1mRows: \u001b[22m\u001b[34m11\u001b[39m \u001b[1mColumns: \u001b[22m\u001b[34m3\u001b[39m\n",
            "\u001b[36m──\u001b[39m \u001b[1mColumn specification\u001b[22m \u001b[36m────────────────────────────────────────────────────────\u001b[39m\n",
            "\u001b[1mDelimiter:\u001b[22m \"\\t\"\n",
            "\u001b[31mchr\u001b[39m (3): status, module, sample\n",
            "\n",
            "\u001b[36mℹ\u001b[39m Use `spec()` to retrieve the full column specification for this data.\n",
            "\u001b[36mℹ\u001b[39m Specify the column types or set `show_col_types = FALSE` to quiet this message.\n",
            "\u001b[1mRows: \u001b[22m\u001b[34m8\u001b[39m \u001b[1mColumns: \u001b[22m\u001b[34m2\u001b[39m\n",
            "\u001b[36m──\u001b[39m \u001b[1mColumn specification\u001b[22m \u001b[36m────────────────────────────────────────────────────────\u001b[39m\n",
            "\u001b[1mDelimiter:\u001b[22m \"\\t\"\n",
            "\u001b[31mchr\u001b[39m (2): Measure, Value\n",
            "\n",
            "\u001b[36mℹ\u001b[39m Use `spec()` to retrieve the full column specification for this data.\n",
            "\u001b[36mℹ\u001b[39m Specify the column types or set `show_col_types = FALSE` to quiet this message.\n",
            "\u001b[1mRows: \u001b[22m\u001b[34m16\u001b[39m \u001b[1mColumns: \u001b[22m\u001b[34m2\u001b[39m\n",
            "\u001b[36m──\u001b[39m \u001b[1mColumn specification\u001b[22m \u001b[36m────────────────────────────────────────────────────────\u001b[39m\n",
            "\u001b[1mDelimiter:\u001b[22m \"\\t\"\n",
            "\u001b[31mchr\u001b[39m (1): Duplication Level\n",
            "\u001b[32mdbl\u001b[39m (1): Percentage of total\n",
            "\n",
            "\u001b[36mℹ\u001b[39m Use `spec()` to retrieve the full column specification for this data.\n",
            "\u001b[36mℹ\u001b[39m Specify the column types or set `show_col_types = FALSE` to quiet this message.\n",
            "\u001b[1mRows: \u001b[22m\u001b[34m0\u001b[39m \u001b[1mColumns: \u001b[22m\u001b[34m2\u001b[39m\n",
            "\u001b[36m──\u001b[39m \u001b[1mColumn specification\u001b[22m \u001b[36m────────────────────────────────────────────────────────\u001b[39m\n",
            "\u001b[1mDelimiter:\u001b[22m \"\\t\"\n",
            "\u001b[31mchr\u001b[39m (2): Total Deduplicated Percentage, 75.11427952444127\n",
            "\n",
            "\u001b[36mℹ\u001b[39m Use `spec()` to retrieve the full column specification for this data.\n",
            "\u001b[36mℹ\u001b[39m Specify the column types or set `show_col_types = FALSE` to quiet this message.\n"
          ]
        },
        {
          "output_type": "stream",
          "name": "stdout",
          "text": [
            "\r  |                                                                            \r  |==================                                                    |  25%"
          ]
        },
        {
          "output_type": "stream",
          "name": "stderr",
          "text": [
            "\u001b[1mRows: \u001b[22m\u001b[34m11\u001b[39m \u001b[1mColumns: \u001b[22m\u001b[34m3\u001b[39m\n",
            "\u001b[36m──\u001b[39m \u001b[1mColumn specification\u001b[22m \u001b[36m────────────────────────────────────────────────────────\u001b[39m\n",
            "\u001b[1mDelimiter:\u001b[22m \"\\t\"\n",
            "\u001b[31mchr\u001b[39m (3): status, module, sample\n",
            "\n",
            "\u001b[36mℹ\u001b[39m Use `spec()` to retrieve the full column specification for this data.\n",
            "\u001b[36mℹ\u001b[39m Specify the column types or set `show_col_types = FALSE` to quiet this message.\n",
            "\u001b[1mRows: \u001b[22m\u001b[34m8\u001b[39m \u001b[1mColumns: \u001b[22m\u001b[34m2\u001b[39m\n",
            "\u001b[36m──\u001b[39m \u001b[1mColumn specification\u001b[22m \u001b[36m────────────────────────────────────────────────────────\u001b[39m\n",
            "\u001b[1mDelimiter:\u001b[22m \"\\t\"\n",
            "\u001b[31mchr\u001b[39m (2): Measure, Value\n",
            "\n",
            "\u001b[36mℹ\u001b[39m Use `spec()` to retrieve the full column specification for this data.\n",
            "\u001b[36mℹ\u001b[39m Specify the column types or set `show_col_types = FALSE` to quiet this message.\n",
            "\u001b[1mRows: \u001b[22m\u001b[34m16\u001b[39m \u001b[1mColumns: \u001b[22m\u001b[34m2\u001b[39m\n",
            "\u001b[36m──\u001b[39m \u001b[1mColumn specification\u001b[22m \u001b[36m────────────────────────────────────────────────────────\u001b[39m\n",
            "\u001b[1mDelimiter:\u001b[22m \"\\t\"\n",
            "\u001b[31mchr\u001b[39m (1): Duplication Level\n",
            "\u001b[32mdbl\u001b[39m (1): Percentage of total\n",
            "\n",
            "\u001b[36mℹ\u001b[39m Use `spec()` to retrieve the full column specification for this data.\n",
            "\u001b[36mℹ\u001b[39m Specify the column types or set `show_col_types = FALSE` to quiet this message.\n",
            "\u001b[1mRows: \u001b[22m\u001b[34m0\u001b[39m \u001b[1mColumns: \u001b[22m\u001b[34m2\u001b[39m\n",
            "\u001b[36m──\u001b[39m \u001b[1mColumn specification\u001b[22m \u001b[36m────────────────────────────────────────────────────────\u001b[39m\n",
            "\u001b[1mDelimiter:\u001b[22m \"\\t\"\n",
            "\u001b[31mchr\u001b[39m (2): Total Deduplicated Percentage, 76.2338857009682\n",
            "\n",
            "\u001b[36mℹ\u001b[39m Use `spec()` to retrieve the full column specification for this data.\n",
            "\u001b[36mℹ\u001b[39m Specify the column types or set `show_col_types = FALSE` to quiet this message.\n"
          ]
        },
        {
          "output_type": "stream",
          "name": "stdout",
          "text": [
            "\r  |                                                                            \r  |===================================                                   |  50%"
          ]
        },
        {
          "output_type": "stream",
          "name": "stderr",
          "text": [
            "\u001b[1mRows: \u001b[22m\u001b[34m11\u001b[39m \u001b[1mColumns: \u001b[22m\u001b[34m3\u001b[39m\n",
            "\u001b[36m──\u001b[39m \u001b[1mColumn specification\u001b[22m \u001b[36m────────────────────────────────────────────────────────\u001b[39m\n",
            "\u001b[1mDelimiter:\u001b[22m \"\\t\"\n",
            "\u001b[31mchr\u001b[39m (3): status, module, sample\n",
            "\n",
            "\u001b[36mℹ\u001b[39m Use `spec()` to retrieve the full column specification for this data.\n",
            "\u001b[36mℹ\u001b[39m Specify the column types or set `show_col_types = FALSE` to quiet this message.\n",
            "\u001b[1mRows: \u001b[22m\u001b[34m8\u001b[39m \u001b[1mColumns: \u001b[22m\u001b[34m2\u001b[39m\n",
            "\u001b[36m──\u001b[39m \u001b[1mColumn specification\u001b[22m \u001b[36m────────────────────────────────────────────────────────\u001b[39m\n",
            "\u001b[1mDelimiter:\u001b[22m \"\\t\"\n",
            "\u001b[31mchr\u001b[39m (2): Measure, Value\n",
            "\n",
            "\u001b[36mℹ\u001b[39m Use `spec()` to retrieve the full column specification for this data.\n",
            "\u001b[36mℹ\u001b[39m Specify the column types or set `show_col_types = FALSE` to quiet this message.\n",
            "\u001b[1mRows: \u001b[22m\u001b[34m16\u001b[39m \u001b[1mColumns: \u001b[22m\u001b[34m2\u001b[39m\n",
            "\u001b[36m──\u001b[39m \u001b[1mColumn specification\u001b[22m \u001b[36m────────────────────────────────────────────────────────\u001b[39m\n",
            "\u001b[1mDelimiter:\u001b[22m \"\\t\"\n",
            "\u001b[31mchr\u001b[39m (1): Duplication Level\n",
            "\u001b[32mdbl\u001b[39m (1): Percentage of total\n",
            "\n",
            "\u001b[36mℹ\u001b[39m Use `spec()` to retrieve the full column specification for this data.\n",
            "\u001b[36mℹ\u001b[39m Specify the column types or set `show_col_types = FALSE` to quiet this message.\n",
            "\u001b[1mRows: \u001b[22m\u001b[34m0\u001b[39m \u001b[1mColumns: \u001b[22m\u001b[34m2\u001b[39m\n",
            "\u001b[36m──\u001b[39m \u001b[1mColumn specification\u001b[22m \u001b[36m────────────────────────────────────────────────────────\u001b[39m\n",
            "\u001b[1mDelimiter:\u001b[22m \"\\t\"\n",
            "\u001b[31mchr\u001b[39m (2): Total Deduplicated Percentage, 71.38784869532941\n",
            "\n",
            "\u001b[36mℹ\u001b[39m Use `spec()` to retrieve the full column specification for this data.\n",
            "\u001b[36mℹ\u001b[39m Specify the column types or set `show_col_types = FALSE` to quiet this message.\n"
          ]
        },
        {
          "output_type": "stream",
          "name": "stdout",
          "text": [
            "\r  |                                                                            \r  |====================================================                  |  75%"
          ]
        },
        {
          "output_type": "stream",
          "name": "stderr",
          "text": [
            "\u001b[1mRows: \u001b[22m\u001b[34m11\u001b[39m \u001b[1mColumns: \u001b[22m\u001b[34m3\u001b[39m\n",
            "\u001b[36m──\u001b[39m \u001b[1mColumn specification\u001b[22m \u001b[36m────────────────────────────────────────────────────────\u001b[39m\n",
            "\u001b[1mDelimiter:\u001b[22m \"\\t\"\n",
            "\u001b[31mchr\u001b[39m (3): status, module, sample\n",
            "\n",
            "\u001b[36mℹ\u001b[39m Use `spec()` to retrieve the full column specification for this data.\n",
            "\u001b[36mℹ\u001b[39m Specify the column types or set `show_col_types = FALSE` to quiet this message.\n",
            "\u001b[1mRows: \u001b[22m\u001b[34m8\u001b[39m \u001b[1mColumns: \u001b[22m\u001b[34m2\u001b[39m\n",
            "\u001b[36m──\u001b[39m \u001b[1mColumn specification\u001b[22m \u001b[36m────────────────────────────────────────────────────────\u001b[39m\n",
            "\u001b[1mDelimiter:\u001b[22m \"\\t\"\n",
            "\u001b[31mchr\u001b[39m (2): Measure, Value\n",
            "\n",
            "\u001b[36mℹ\u001b[39m Use `spec()` to retrieve the full column specification for this data.\n",
            "\u001b[36mℹ\u001b[39m Specify the column types or set `show_col_types = FALSE` to quiet this message.\n",
            "\u001b[1mRows: \u001b[22m\u001b[34m16\u001b[39m \u001b[1mColumns: \u001b[22m\u001b[34m2\u001b[39m\n",
            "\u001b[36m──\u001b[39m \u001b[1mColumn specification\u001b[22m \u001b[36m────────────────────────────────────────────────────────\u001b[39m\n",
            "\u001b[1mDelimiter:\u001b[22m \"\\t\"\n",
            "\u001b[31mchr\u001b[39m (1): Duplication Level\n",
            "\u001b[32mdbl\u001b[39m (1): Percentage of total\n",
            "\n",
            "\u001b[36mℹ\u001b[39m Use `spec()` to retrieve the full column specification for this data.\n",
            "\u001b[36mℹ\u001b[39m Specify the column types or set `show_col_types = FALSE` to quiet this message.\n",
            "\u001b[1mRows: \u001b[22m\u001b[34m0\u001b[39m \u001b[1mColumns: \u001b[22m\u001b[34m2\u001b[39m\n",
            "\u001b[36m──\u001b[39m \u001b[1mColumn specification\u001b[22m \u001b[36m────────────────────────────────────────────────────────\u001b[39m\n",
            "\u001b[1mDelimiter:\u001b[22m \"\\t\"\n",
            "\u001b[31mchr\u001b[39m (2): Total Deduplicated Percentage, 71.0329660737061\n",
            "\n",
            "\u001b[36mℹ\u001b[39m Use `spec()` to retrieve the full column specification for this data.\n",
            "\u001b[36mℹ\u001b[39m Specify the column types or set `show_col_types = FALSE` to quiet this message.\n"
          ]
        },
        {
          "output_type": "stream",
          "name": "stdout",
          "text": [
            "\r  |                                                                            \r  |======================================================================| 100%\n"
          ]
        },
        {
          "output_type": "display_data",
          "data": {
            "text/html": [
              "<table class=\"dataframe\">\n",
              "<caption>A qc_aggregate: 44 × 7</caption>\n",
              "<thead>\n",
              "\t<tr><th></th><th scope=col>sample</th><th scope=col>module</th><th scope=col>status</th><th scope=col>tot.seq</th><th scope=col>seq.length</th><th scope=col>pct.gc</th><th scope=col>pct.dup</th></tr>\n",
              "\t<tr><th></th><th scope=col>&lt;chr&gt;</th><th scope=col>&lt;chr&gt;</th><th scope=col>&lt;chr&gt;</th><th scope=col>&lt;chr&gt;</th><th scope=col>&lt;chr&gt;</th><th scope=col>&lt;dbl&gt;</th><th scope=col>&lt;dbl&gt;</th></tr>\n",
              "</thead>\n",
              "<tbody>\n",
              "\t<tr><th scope=row>1</th><td>ERR12268341_1</td><td>Basic Statistics            </td><td>PASS</td><td>1487107</td><td>140</td><td>62</td><td>24.89</td></tr>\n",
              "\t<tr><th scope=row>2</th><td>ERR12268341_1</td><td>Per base sequence quality   </td><td>PASS</td><td>1487107</td><td>140</td><td>62</td><td>24.89</td></tr>\n",
              "\t<tr><th scope=row>3</th><td>ERR12268341_1</td><td>Per tile sequence quality   </td><td>PASS</td><td>1487107</td><td>140</td><td>62</td><td>24.89</td></tr>\n",
              "\t<tr><th scope=row>4</th><td>ERR12268341_1</td><td>Per sequence quality scores </td><td>PASS</td><td>1487107</td><td>140</td><td>62</td><td>24.89</td></tr>\n",
              "\t<tr><th scope=row>5</th><td>ERR12268341_1</td><td>Per base sequence content   </td><td>FAIL</td><td>1487107</td><td>140</td><td>62</td><td>24.89</td></tr>\n",
              "\t<tr><th scope=row>6</th><td>ERR12268341_1</td><td>Per sequence GC content     </td><td>PASS</td><td>1487107</td><td>140</td><td>62</td><td>24.89</td></tr>\n",
              "\t<tr><th scope=row>7</th><td>ERR12268341_1</td><td>Per base N content          </td><td>PASS</td><td>1487107</td><td>140</td><td>62</td><td>24.89</td></tr>\n",
              "\t<tr><th scope=row>8</th><td>ERR12268341_1</td><td>Sequence Length Distribution</td><td>PASS</td><td>1487107</td><td>140</td><td>62</td><td>24.89</td></tr>\n",
              "\t<tr><th scope=row>9</th><td>ERR12268341_1</td><td>Sequence Duplication Levels </td><td>PASS</td><td>1487107</td><td>140</td><td>62</td><td>24.89</td></tr>\n",
              "\t<tr><th scope=row>10</th><td>ERR12268341_1</td><td>Overrepresented sequences   </td><td>WARN</td><td>1487107</td><td>140</td><td>62</td><td>24.89</td></tr>\n",
              "\t<tr><th scope=row>11</th><td>ERR12268341_1</td><td>Adapter Content             </td><td>FAIL</td><td>1487107</td><td>140</td><td>62</td><td>24.89</td></tr>\n",
              "\t<tr><th scope=row>12</th><td>ERR12268341_2</td><td>Basic Statistics            </td><td>PASS</td><td>1487107</td><td>140</td><td>62</td><td>23.77</td></tr>\n",
              "\t<tr><th scope=row>13</th><td>ERR12268341_2</td><td>Per base sequence quality   </td><td>WARN</td><td>1487107</td><td>140</td><td>62</td><td>23.77</td></tr>\n",
              "\t<tr><th scope=row>14</th><td>ERR12268341_2</td><td>Per tile sequence quality   </td><td>PASS</td><td>1487107</td><td>140</td><td>62</td><td>23.77</td></tr>\n",
              "\t<tr><th scope=row>15</th><td>ERR12268341_2</td><td>Per sequence quality scores </td><td>PASS</td><td>1487107</td><td>140</td><td>62</td><td>23.77</td></tr>\n",
              "\t<tr><th scope=row>16</th><td>ERR12268341_2</td><td>Per base sequence content   </td><td>FAIL</td><td>1487107</td><td>140</td><td>62</td><td>23.77</td></tr>\n",
              "\t<tr><th scope=row>17</th><td>ERR12268341_2</td><td>Per sequence GC content     </td><td>PASS</td><td>1487107</td><td>140</td><td>62</td><td>23.77</td></tr>\n",
              "\t<tr><th scope=row>18</th><td>ERR12268341_2</td><td>Per base N content          </td><td>PASS</td><td>1487107</td><td>140</td><td>62</td><td>23.77</td></tr>\n",
              "\t<tr><th scope=row>19</th><td>ERR12268341_2</td><td>Sequence Length Distribution</td><td>PASS</td><td>1487107</td><td>140</td><td>62</td><td>23.77</td></tr>\n",
              "\t<tr><th scope=row>20</th><td>ERR12268341_2</td><td>Sequence Duplication Levels </td><td>PASS</td><td>1487107</td><td>140</td><td>62</td><td>23.77</td></tr>\n",
              "\t<tr><th scope=row>21</th><td>ERR12268341_2</td><td>Overrepresented sequences   </td><td>WARN</td><td>1487107</td><td>140</td><td>62</td><td>23.77</td></tr>\n",
              "\t<tr><th scope=row>22</th><td>ERR12268341_2</td><td>Adapter Content             </td><td>FAIL</td><td>1487107</td><td>140</td><td>62</td><td>23.77</td></tr>\n",
              "\t<tr><th scope=row>23</th><td>ERR12268342_1</td><td>Basic Statistics            </td><td>PASS</td><td>1440864</td><td>151</td><td>64</td><td>28.61</td></tr>\n",
              "\t<tr><th scope=row>24</th><td>ERR12268342_1</td><td>Per base sequence quality   </td><td>PASS</td><td>1440864</td><td>151</td><td>64</td><td>28.61</td></tr>\n",
              "\t<tr><th scope=row>25</th><td>ERR12268342_1</td><td>Per tile sequence quality   </td><td>PASS</td><td>1440864</td><td>151</td><td>64</td><td>28.61</td></tr>\n",
              "\t<tr><th scope=row>26</th><td>ERR12268342_1</td><td>Per sequence quality scores </td><td>PASS</td><td>1440864</td><td>151</td><td>64</td><td>28.61</td></tr>\n",
              "\t<tr><th scope=row>27</th><td>ERR12268342_1</td><td>Per base sequence content   </td><td>FAIL</td><td>1440864</td><td>151</td><td>64</td><td>28.61</td></tr>\n",
              "\t<tr><th scope=row>28</th><td>ERR12268342_1</td><td>Per sequence GC content     </td><td>PASS</td><td>1440864</td><td>151</td><td>64</td><td>28.61</td></tr>\n",
              "\t<tr><th scope=row>29</th><td>ERR12268342_1</td><td>Per base N content          </td><td>PASS</td><td>1440864</td><td>151</td><td>64</td><td>28.61</td></tr>\n",
              "\t<tr><th scope=row>30</th><td>ERR12268342_1</td><td>Sequence Length Distribution</td><td>PASS</td><td>1440864</td><td>151</td><td>64</td><td>28.61</td></tr>\n",
              "\t<tr><th scope=row>31</th><td>ERR12268342_1</td><td>Sequence Duplication Levels </td><td>PASS</td><td>1440864</td><td>151</td><td>64</td><td>28.61</td></tr>\n",
              "\t<tr><th scope=row>32</th><td>ERR12268342_1</td><td>Overrepresented sequences   </td><td>PASS</td><td>1440864</td><td>151</td><td>64</td><td>28.61</td></tr>\n",
              "\t<tr><th scope=row>33</th><td>ERR12268342_1</td><td>Adapter Content             </td><td>WARN</td><td>1440864</td><td>151</td><td>64</td><td>28.61</td></tr>\n",
              "\t<tr><th scope=row>34</th><td>ERR12268342_2</td><td>Basic Statistics            </td><td>PASS</td><td>1440864</td><td>151</td><td>64</td><td>28.97</td></tr>\n",
              "\t<tr><th scope=row>35</th><td>ERR12268342_2</td><td>Per base sequence quality   </td><td>PASS</td><td>1440864</td><td>151</td><td>64</td><td>28.97</td></tr>\n",
              "\t<tr><th scope=row>36</th><td>ERR12268342_2</td><td>Per tile sequence quality   </td><td>PASS</td><td>1440864</td><td>151</td><td>64</td><td>28.97</td></tr>\n",
              "\t<tr><th scope=row>37</th><td>ERR12268342_2</td><td>Per sequence quality scores </td><td>PASS</td><td>1440864</td><td>151</td><td>64</td><td>28.97</td></tr>\n",
              "\t<tr><th scope=row>38</th><td>ERR12268342_2</td><td>Per base sequence content   </td><td>FAIL</td><td>1440864</td><td>151</td><td>64</td><td>28.97</td></tr>\n",
              "\t<tr><th scope=row>39</th><td>ERR12268342_2</td><td>Per sequence GC content     </td><td>PASS</td><td>1440864</td><td>151</td><td>64</td><td>28.97</td></tr>\n",
              "\t<tr><th scope=row>40</th><td>ERR12268342_2</td><td>Per base N content          </td><td>PASS</td><td>1440864</td><td>151</td><td>64</td><td>28.97</td></tr>\n",
              "\t<tr><th scope=row>41</th><td>ERR12268342_2</td><td>Sequence Length Distribution</td><td>PASS</td><td>1440864</td><td>151</td><td>64</td><td>28.97</td></tr>\n",
              "\t<tr><th scope=row>42</th><td>ERR12268342_2</td><td>Sequence Duplication Levels </td><td>PASS</td><td>1440864</td><td>151</td><td>64</td><td>28.97</td></tr>\n",
              "\t<tr><th scope=row>43</th><td>ERR12268342_2</td><td>Overrepresented sequences   </td><td>PASS</td><td>1440864</td><td>151</td><td>64</td><td>28.97</td></tr>\n",
              "\t<tr><th scope=row>44</th><td>ERR12268342_2</td><td>Adapter Content             </td><td>WARN</td><td>1440864</td><td>151</td><td>64</td><td>28.97</td></tr>\n",
              "</tbody>\n",
              "</table>\n"
            ],
            "text/markdown": "\nA qc_aggregate: 44 × 7\n\n| <!--/--> | sample &lt;chr&gt; | module &lt;chr&gt; | status &lt;chr&gt; | tot.seq &lt;chr&gt; | seq.length &lt;chr&gt; | pct.gc &lt;dbl&gt; | pct.dup &lt;dbl&gt; |\n|---|---|---|---|---|---|---|---|\n| 1 | ERR12268341_1 | Basic Statistics             | PASS | 1487107 | 140 | 62 | 24.89 |\n| 2 | ERR12268341_1 | Per base sequence quality    | PASS | 1487107 | 140 | 62 | 24.89 |\n| 3 | ERR12268341_1 | Per tile sequence quality    | PASS | 1487107 | 140 | 62 | 24.89 |\n| 4 | ERR12268341_1 | Per sequence quality scores  | PASS | 1487107 | 140 | 62 | 24.89 |\n| 5 | ERR12268341_1 | Per base sequence content    | FAIL | 1487107 | 140 | 62 | 24.89 |\n| 6 | ERR12268341_1 | Per sequence GC content      | PASS | 1487107 | 140 | 62 | 24.89 |\n| 7 | ERR12268341_1 | Per base N content           | PASS | 1487107 | 140 | 62 | 24.89 |\n| 8 | ERR12268341_1 | Sequence Length Distribution | PASS | 1487107 | 140 | 62 | 24.89 |\n| 9 | ERR12268341_1 | Sequence Duplication Levels  | PASS | 1487107 | 140 | 62 | 24.89 |\n| 10 | ERR12268341_1 | Overrepresented sequences    | WARN | 1487107 | 140 | 62 | 24.89 |\n| 11 | ERR12268341_1 | Adapter Content              | FAIL | 1487107 | 140 | 62 | 24.89 |\n| 12 | ERR12268341_2 | Basic Statistics             | PASS | 1487107 | 140 | 62 | 23.77 |\n| 13 | ERR12268341_2 | Per base sequence quality    | WARN | 1487107 | 140 | 62 | 23.77 |\n| 14 | ERR12268341_2 | Per tile sequence quality    | PASS | 1487107 | 140 | 62 | 23.77 |\n| 15 | ERR12268341_2 | Per sequence quality scores  | PASS | 1487107 | 140 | 62 | 23.77 |\n| 16 | ERR12268341_2 | Per base sequence content    | FAIL | 1487107 | 140 | 62 | 23.77 |\n| 17 | ERR12268341_2 | Per sequence GC content      | PASS | 1487107 | 140 | 62 | 23.77 |\n| 18 | ERR12268341_2 | Per base N content           | PASS | 1487107 | 140 | 62 | 23.77 |\n| 19 | ERR12268341_2 | Sequence Length Distribution | PASS | 1487107 | 140 | 62 | 23.77 |\n| 20 | ERR12268341_2 | Sequence Duplication Levels  | PASS | 1487107 | 140 | 62 | 23.77 |\n| 21 | ERR12268341_2 | Overrepresented sequences    | WARN | 1487107 | 140 | 62 | 23.77 |\n| 22 | ERR12268341_2 | Adapter Content              | FAIL | 1487107 | 140 | 62 | 23.77 |\n| 23 | ERR12268342_1 | Basic Statistics             | PASS | 1440864 | 151 | 64 | 28.61 |\n| 24 | ERR12268342_1 | Per base sequence quality    | PASS | 1440864 | 151 | 64 | 28.61 |\n| 25 | ERR12268342_1 | Per tile sequence quality    | PASS | 1440864 | 151 | 64 | 28.61 |\n| 26 | ERR12268342_1 | Per sequence quality scores  | PASS | 1440864 | 151 | 64 | 28.61 |\n| 27 | ERR12268342_1 | Per base sequence content    | FAIL | 1440864 | 151 | 64 | 28.61 |\n| 28 | ERR12268342_1 | Per sequence GC content      | PASS | 1440864 | 151 | 64 | 28.61 |\n| 29 | ERR12268342_1 | Per base N content           | PASS | 1440864 | 151 | 64 | 28.61 |\n| 30 | ERR12268342_1 | Sequence Length Distribution | PASS | 1440864 | 151 | 64 | 28.61 |\n| 31 | ERR12268342_1 | Sequence Duplication Levels  | PASS | 1440864 | 151 | 64 | 28.61 |\n| 32 | ERR12268342_1 | Overrepresented sequences    | PASS | 1440864 | 151 | 64 | 28.61 |\n| 33 | ERR12268342_1 | Adapter Content              | WARN | 1440864 | 151 | 64 | 28.61 |\n| 34 | ERR12268342_2 | Basic Statistics             | PASS | 1440864 | 151 | 64 | 28.97 |\n| 35 | ERR12268342_2 | Per base sequence quality    | PASS | 1440864 | 151 | 64 | 28.97 |\n| 36 | ERR12268342_2 | Per tile sequence quality    | PASS | 1440864 | 151 | 64 | 28.97 |\n| 37 | ERR12268342_2 | Per sequence quality scores  | PASS | 1440864 | 151 | 64 | 28.97 |\n| 38 | ERR12268342_2 | Per base sequence content    | FAIL | 1440864 | 151 | 64 | 28.97 |\n| 39 | ERR12268342_2 | Per sequence GC content      | PASS | 1440864 | 151 | 64 | 28.97 |\n| 40 | ERR12268342_2 | Per base N content           | PASS | 1440864 | 151 | 64 | 28.97 |\n| 41 | ERR12268342_2 | Sequence Length Distribution | PASS | 1440864 | 151 | 64 | 28.97 |\n| 42 | ERR12268342_2 | Sequence Duplication Levels  | PASS | 1440864 | 151 | 64 | 28.97 |\n| 43 | ERR12268342_2 | Overrepresented sequences    | PASS | 1440864 | 151 | 64 | 28.97 |\n| 44 | ERR12268342_2 | Adapter Content              | WARN | 1440864 | 151 | 64 | 28.97 |\n\n",
            "text/latex": "A qc\\_aggregate: 44 × 7\n\\begin{tabular}{r|lllllll}\n  & sample & module & status & tot.seq & seq.length & pct.gc & pct.dup\\\\\n  & <chr> & <chr> & <chr> & <chr> & <chr> & <dbl> & <dbl>\\\\\n\\hline\n\t1 & ERR12268341\\_1 & Basic Statistics             & PASS & 1487107 & 140 & 62 & 24.89\\\\\n\t2 & ERR12268341\\_1 & Per base sequence quality    & PASS & 1487107 & 140 & 62 & 24.89\\\\\n\t3 & ERR12268341\\_1 & Per tile sequence quality    & PASS & 1487107 & 140 & 62 & 24.89\\\\\n\t4 & ERR12268341\\_1 & Per sequence quality scores  & PASS & 1487107 & 140 & 62 & 24.89\\\\\n\t5 & ERR12268341\\_1 & Per base sequence content    & FAIL & 1487107 & 140 & 62 & 24.89\\\\\n\t6 & ERR12268341\\_1 & Per sequence GC content      & PASS & 1487107 & 140 & 62 & 24.89\\\\\n\t7 & ERR12268341\\_1 & Per base N content           & PASS & 1487107 & 140 & 62 & 24.89\\\\\n\t8 & ERR12268341\\_1 & Sequence Length Distribution & PASS & 1487107 & 140 & 62 & 24.89\\\\\n\t9 & ERR12268341\\_1 & Sequence Duplication Levels  & PASS & 1487107 & 140 & 62 & 24.89\\\\\n\t10 & ERR12268341\\_1 & Overrepresented sequences    & WARN & 1487107 & 140 & 62 & 24.89\\\\\n\t11 & ERR12268341\\_1 & Adapter Content              & FAIL & 1487107 & 140 & 62 & 24.89\\\\\n\t12 & ERR12268341\\_2 & Basic Statistics             & PASS & 1487107 & 140 & 62 & 23.77\\\\\n\t13 & ERR12268341\\_2 & Per base sequence quality    & WARN & 1487107 & 140 & 62 & 23.77\\\\\n\t14 & ERR12268341\\_2 & Per tile sequence quality    & PASS & 1487107 & 140 & 62 & 23.77\\\\\n\t15 & ERR12268341\\_2 & Per sequence quality scores  & PASS & 1487107 & 140 & 62 & 23.77\\\\\n\t16 & ERR12268341\\_2 & Per base sequence content    & FAIL & 1487107 & 140 & 62 & 23.77\\\\\n\t17 & ERR12268341\\_2 & Per sequence GC content      & PASS & 1487107 & 140 & 62 & 23.77\\\\\n\t18 & ERR12268341\\_2 & Per base N content           & PASS & 1487107 & 140 & 62 & 23.77\\\\\n\t19 & ERR12268341\\_2 & Sequence Length Distribution & PASS & 1487107 & 140 & 62 & 23.77\\\\\n\t20 & ERR12268341\\_2 & Sequence Duplication Levels  & PASS & 1487107 & 140 & 62 & 23.77\\\\\n\t21 & ERR12268341\\_2 & Overrepresented sequences    & WARN & 1487107 & 140 & 62 & 23.77\\\\\n\t22 & ERR12268341\\_2 & Adapter Content              & FAIL & 1487107 & 140 & 62 & 23.77\\\\\n\t23 & ERR12268342\\_1 & Basic Statistics             & PASS & 1440864 & 151 & 64 & 28.61\\\\\n\t24 & ERR12268342\\_1 & Per base sequence quality    & PASS & 1440864 & 151 & 64 & 28.61\\\\\n\t25 & ERR12268342\\_1 & Per tile sequence quality    & PASS & 1440864 & 151 & 64 & 28.61\\\\\n\t26 & ERR12268342\\_1 & Per sequence quality scores  & PASS & 1440864 & 151 & 64 & 28.61\\\\\n\t27 & ERR12268342\\_1 & Per base sequence content    & FAIL & 1440864 & 151 & 64 & 28.61\\\\\n\t28 & ERR12268342\\_1 & Per sequence GC content      & PASS & 1440864 & 151 & 64 & 28.61\\\\\n\t29 & ERR12268342\\_1 & Per base N content           & PASS & 1440864 & 151 & 64 & 28.61\\\\\n\t30 & ERR12268342\\_1 & Sequence Length Distribution & PASS & 1440864 & 151 & 64 & 28.61\\\\\n\t31 & ERR12268342\\_1 & Sequence Duplication Levels  & PASS & 1440864 & 151 & 64 & 28.61\\\\\n\t32 & ERR12268342\\_1 & Overrepresented sequences    & PASS & 1440864 & 151 & 64 & 28.61\\\\\n\t33 & ERR12268342\\_1 & Adapter Content              & WARN & 1440864 & 151 & 64 & 28.61\\\\\n\t34 & ERR12268342\\_2 & Basic Statistics             & PASS & 1440864 & 151 & 64 & 28.97\\\\\n\t35 & ERR12268342\\_2 & Per base sequence quality    & PASS & 1440864 & 151 & 64 & 28.97\\\\\n\t36 & ERR12268342\\_2 & Per tile sequence quality    & PASS & 1440864 & 151 & 64 & 28.97\\\\\n\t37 & ERR12268342\\_2 & Per sequence quality scores  & PASS & 1440864 & 151 & 64 & 28.97\\\\\n\t38 & ERR12268342\\_2 & Per base sequence content    & FAIL & 1440864 & 151 & 64 & 28.97\\\\\n\t39 & ERR12268342\\_2 & Per sequence GC content      & PASS & 1440864 & 151 & 64 & 28.97\\\\\n\t40 & ERR12268342\\_2 & Per base N content           & PASS & 1440864 & 151 & 64 & 28.97\\\\\n\t41 & ERR12268342\\_2 & Sequence Length Distribution & PASS & 1440864 & 151 & 64 & 28.97\\\\\n\t42 & ERR12268342\\_2 & Sequence Duplication Levels  & PASS & 1440864 & 151 & 64 & 28.97\\\\\n\t43 & ERR12268342\\_2 & Overrepresented sequences    & PASS & 1440864 & 151 & 64 & 28.97\\\\\n\t44 & ERR12268342\\_2 & Adapter Content              & WARN & 1440864 & 151 & 64 & 28.97\\\\\n\\end{tabular}\n",
            "text/plain": [
              "   sample        module                       status tot.seq seq.length pct.gc\n",
              "1  ERR12268341_1 Basic Statistics             PASS   1487107 140        62    \n",
              "2  ERR12268341_1 Per base sequence quality    PASS   1487107 140        62    \n",
              "3  ERR12268341_1 Per tile sequence quality    PASS   1487107 140        62    \n",
              "4  ERR12268341_1 Per sequence quality scores  PASS   1487107 140        62    \n",
              "5  ERR12268341_1 Per base sequence content    FAIL   1487107 140        62    \n",
              "6  ERR12268341_1 Per sequence GC content      PASS   1487107 140        62    \n",
              "7  ERR12268341_1 Per base N content           PASS   1487107 140        62    \n",
              "8  ERR12268341_1 Sequence Length Distribution PASS   1487107 140        62    \n",
              "9  ERR12268341_1 Sequence Duplication Levels  PASS   1487107 140        62    \n",
              "10 ERR12268341_1 Overrepresented sequences    WARN   1487107 140        62    \n",
              "11 ERR12268341_1 Adapter Content              FAIL   1487107 140        62    \n",
              "12 ERR12268341_2 Basic Statistics             PASS   1487107 140        62    \n",
              "13 ERR12268341_2 Per base sequence quality    WARN   1487107 140        62    \n",
              "14 ERR12268341_2 Per tile sequence quality    PASS   1487107 140        62    \n",
              "15 ERR12268341_2 Per sequence quality scores  PASS   1487107 140        62    \n",
              "16 ERR12268341_2 Per base sequence content    FAIL   1487107 140        62    \n",
              "17 ERR12268341_2 Per sequence GC content      PASS   1487107 140        62    \n",
              "18 ERR12268341_2 Per base N content           PASS   1487107 140        62    \n",
              "19 ERR12268341_2 Sequence Length Distribution PASS   1487107 140        62    \n",
              "20 ERR12268341_2 Sequence Duplication Levels  PASS   1487107 140        62    \n",
              "21 ERR12268341_2 Overrepresented sequences    WARN   1487107 140        62    \n",
              "22 ERR12268341_2 Adapter Content              FAIL   1487107 140        62    \n",
              "23 ERR12268342_1 Basic Statistics             PASS   1440864 151        64    \n",
              "24 ERR12268342_1 Per base sequence quality    PASS   1440864 151        64    \n",
              "25 ERR12268342_1 Per tile sequence quality    PASS   1440864 151        64    \n",
              "26 ERR12268342_1 Per sequence quality scores  PASS   1440864 151        64    \n",
              "27 ERR12268342_1 Per base sequence content    FAIL   1440864 151        64    \n",
              "28 ERR12268342_1 Per sequence GC content      PASS   1440864 151        64    \n",
              "29 ERR12268342_1 Per base N content           PASS   1440864 151        64    \n",
              "30 ERR12268342_1 Sequence Length Distribution PASS   1440864 151        64    \n",
              "31 ERR12268342_1 Sequence Duplication Levels  PASS   1440864 151        64    \n",
              "32 ERR12268342_1 Overrepresented sequences    PASS   1440864 151        64    \n",
              "33 ERR12268342_1 Adapter Content              WARN   1440864 151        64    \n",
              "34 ERR12268342_2 Basic Statistics             PASS   1440864 151        64    \n",
              "35 ERR12268342_2 Per base sequence quality    PASS   1440864 151        64    \n",
              "36 ERR12268342_2 Per tile sequence quality    PASS   1440864 151        64    \n",
              "37 ERR12268342_2 Per sequence quality scores  PASS   1440864 151        64    \n",
              "38 ERR12268342_2 Per base sequence content    FAIL   1440864 151        64    \n",
              "39 ERR12268342_2 Per sequence GC content      PASS   1440864 151        64    \n",
              "40 ERR12268342_2 Per base N content           PASS   1440864 151        64    \n",
              "41 ERR12268342_2 Sequence Length Distribution PASS   1440864 151        64    \n",
              "42 ERR12268342_2 Sequence Duplication Levels  PASS   1440864 151        64    \n",
              "43 ERR12268342_2 Overrepresented sequences    PASS   1440864 151        64    \n",
              "44 ERR12268342_2 Adapter Content              WARN   1440864 151        64    \n",
              "   pct.dup\n",
              "1  24.89  \n",
              "2  24.89  \n",
              "3  24.89  \n",
              "4  24.89  \n",
              "5  24.89  \n",
              "6  24.89  \n",
              "7  24.89  \n",
              "8  24.89  \n",
              "9  24.89  \n",
              "10 24.89  \n",
              "11 24.89  \n",
              "12 23.77  \n",
              "13 23.77  \n",
              "14 23.77  \n",
              "15 23.77  \n",
              "16 23.77  \n",
              "17 23.77  \n",
              "18 23.77  \n",
              "19 23.77  \n",
              "20 23.77  \n",
              "21 23.77  \n",
              "22 23.77  \n",
              "23 28.61  \n",
              "24 28.61  \n",
              "25 28.61  \n",
              "26 28.61  \n",
              "27 28.61  \n",
              "28 28.61  \n",
              "29 28.61  \n",
              "30 28.61  \n",
              "31 28.61  \n",
              "32 28.61  \n",
              "33 28.61  \n",
              "34 28.97  \n",
              "35 28.97  \n",
              "36 28.97  \n",
              "37 28.97  \n",
              "38 28.97  \n",
              "39 28.97  \n",
              "40 28.97  \n",
              "41 28.97  \n",
              "42 28.97  \n",
              "43 28.97  \n",
              "44 28.97  "
            ]
          },
          "metadata": {}
        }
      ],
      "source": [
        "# FASTQC Installation and QC Report----\n",
        "install.packages(\"fastqcr\")\n",
        "#Your system should also have JAVA installed.\n",
        "#visit www.java.com for installation\n",
        "library(fastqcr)\n",
        "fastqc_install()\n",
        "\n",
        "fastqc()\n",
        "qc <- qc_aggregate(\"FASTQC/\")\n",
        "qc"
      ]
    },
    {
      "cell_type": "code",
      "execution_count": 18,
      "metadata": {
        "colab": {
          "base_uri": "https://localhost:8080/"
        },
        "id": "20YsMXK8CZ4j",
        "outputId": "7ec8952b-4037-497f-c414-11b264fd9502"
      },
      "outputs": [
        {
          "output_type": "stream",
          "name": "stderr",
          "text": [
            "Installing package into ‘/usr/local/lib/R/site-library’\n",
            "(as ‘lib’ is unspecified)\n",
            "\n",
            "Warning message:\n",
            "“package ‘fastp’ is not available for this version of R\n",
            "\n",
            "A version of this package for your version of R might be available elsewhere,\n",
            "see the ideas at\n",
            "https://cran.r-project.org/doc/manuals/r-patched/R-admin.html#Installing-packages”\n"
          ]
        }
      ],
      "source": [
        "install.packages(\"fastp\")"
      ]
    },
    {
      "cell_type": "code",
      "execution_count": 19,
      "metadata": {
        "id": "n_wrBo3Zpzs_"
      },
      "outputs": [],
      "source": [
        "# List all the FASTQ files in your working directory\n",
        "fastq_files <- list.files(pattern = \".fastq.gz$\")"
      ]
    },
    {
      "cell_type": "code",
      "execution_count": 20,
      "metadata": {
        "id": "iY2hutJcj0H4"
      },
      "outputs": [],
      "source": [
        "if (!requireNamespace(\"ShortRead\", quietly = TRUE)) {\n",
        "  BiocManager::install(\"ShortRead\")\n",
        "}\n",
        "library(ShortRead)"
      ]
    },
    {
      "cell_type": "code",
      "execution_count": 21,
      "metadata": {
        "id": "9atduvq9kPpB"
      },
      "outputs": [],
      "source": [
        "# Define Illumina universal adapter\n",
        "adapter_seq <- DNAString(\"AGATCGGAAGAGCACACGTCTGAACTCCAGTCA\")\n"
      ]
    },
    {
      "cell_type": "code",
      "execution_count": 22,
      "metadata": {
        "id": "wUIMnnEZkRce"
      },
      "outputs": [],
      "source": [
        "fq1_41 <- readFastq(\"ERR12268341_1.fastq.gz\")\n",
        "fq2_41 <- readFastq(\"ERR12268341_2.fastq.gz\")\n",
        "\n",
        "trimmed_fq1_41 <- trimLRPatterns(Rpattern = adapter_seq, subject = sread(fq1_41))\n",
        "trimmed_fq2_41 <- trimLRPatterns(Rpattern = adapter_seq, subject = sread(fq2_41))\n",
        "\n",
        "non_empty_1_41 <- width(trimmed_fq1_41) > 0\n",
        "non_empty_2_41 <- width(trimmed_fq2_41) > 0\n",
        "\n",
        "fq1_41_trimmed <- fq1_41[non_empty_1_41]\n",
        "fq2_41_trimmed <- fq2_41[non_empty_2_41]\n",
        "\n",
        "writeFastq(fq1_41_trimmed, \"trimmed_ERR12268341_1.fastq.gz\", compress = TRUE)\n",
        "writeFastq(fq2_41_trimmed, \"trimmed_ERR12268341_2.fastq.gz\", compress = TRUE)\n"
      ]
    },
    {
      "cell_type": "code",
      "execution_count": null,
      "metadata": {
        "id": "1v_nMsrEk4ae"
      },
      "outputs": [],
      "source": [
        "# Load the trimmed reads\n",
        "trimmed_fq1 <- readFastq(\"trimmed_ERR12268341_1.fastq.gz\")\n",
        "trimmed_fq2 <- readFastq(\"trimmed_ERR12268341_2.fastq.gz\")\n",
        "\n",
        "# Identify exact duplicate reads (based on sequence)\n",
        "is_dup1 <- srduplicated(trimmed_fq1)\n",
        "is_dup2 <- srduplicated(trimmed_fq2)\n",
        "\n",
        "# Filter out duplicates\n",
        "dedup_fq1 <- trimmed_fq1[!is_dup1]\n",
        "dedup_fq2 <- trimmed_fq2[!is_dup2]\n",
        "\n",
        "# Save deduplicated reads\n",
        "writeFastq(dedup_fq1, \"dedup_trimmed_SRR5924196_1.fastq.gz\", compress = TRUE)\n",
        "writeFastq(dedup_fq2, \"dedup_trimmed_SRR5924196_2.fastq.gz\", compress = TRUE)\n"
      ]
    },
    {
      "cell_type": "code",
      "execution_count": null,
      "metadata": {
        "id": "IB4_asvarx2w"
      },
      "outputs": [],
      "source": [
        "# Install MultiQC via pip\n",
        "# Ensure that pip is available in your environment (for Colab or system-based R)\n",
        "system(\"pip install multiqc\")\n",
        "\n",
        "# Create a directory for MultiQC report (if not already created)\n",
        "system(\"mkdir -p MultiQC_Report\")\n",
        "\n",
        "# Run MultiQC on the FastQC results generated in the FASTQC/ directory\n",
        "system(\"multiqc FASTQC/ -o MultiQC_Report/\")\n",
        "\n",
        "# Check if the MultiQC report was generated\n",
        "list.files(\"MultiQC_Report/\")\n",
        "\n",
        "# (Optional) Zip the MultiQC report to download or inspect\n",
        "system(\"zip -r MultiQC_Report.zip MultiQC_Report/\")\n"
      ]
    },
    {
      "cell_type": "code",
      "execution_count": null,
      "metadata": {
        "id": "CXTxvxaB3Jhx"
      },
      "outputs": [],
      "source": [
        "# List forward and reverse reads\n",
        "reads1 <- sort(list.files(pattern = \"_1.fastq.gz$\"))\n",
        "reads2 <- sort(list.files(pattern = \"_2.fastq.gz$\"))\n",
        "\n",
        "# Check pairing\n",
        "stopifnot(length(reads1) == length(reads2))\n",
        "\n",
        "# Confirm pairs\n",
        "data.frame(Sample = 1:length(reads1), Forward = reads1, Reverse = reads2)\n"
      ]
    },
    {
      "cell_type": "code",
      "execution_count": null,
      "metadata": {
        "id": "rmnVHMLz3NQy"
      },
      "outputs": [],
      "source": [
        "library(Rsubread)\n",
        "\n",
        "buildindex(\n",
        "  basename = \"mc_full_index_rsubread\",\n",
        "  reference = \"Mycobacterium_tuberculosis_H37Rv_genome.fna\",\n",
        "  indexSplit = FALSE\n",
        ")\n"
      ]
    },
    {
      "cell_type": "code",
      "execution_count": null,
      "metadata": {
        "id": "_iDJicPHdEfl"
      },
      "outputs": [],
      "source": [
        "#Building Index----\n",
        "buildindex(\"mc_full_index_rsubread\",\n",
        "           \"Mycobacterium_tuberculosis_H37Rv_genome.fna\",\n",
        "           indexSplit=F)\n",
        "\n",
        "reads1 <- list.files(pattern = \"trimmed_ERR12268341_1.fastq.gz$\" )\n",
        "reads2 <- list.files(pattern = \"trimmed_ERR12268341_2.fastq.gz$\" )\n",
        "all.equal(length(reads1),length(reads2))"
      ]
    },
    {
      "cell_type": "code",
      "execution_count": null,
      "metadata": {
        "id": "WtVqzqMC7Tvw"
      },
      "outputs": [],
      "source": [
        "align(\n",
        "  index = \"mc_full_index_rsubread\",\n",
        "  readfile1 = \"trimmed_ERR12268341_1.fastq.gz\",\n",
        "  readfile2 = \"trimmed_ERR12268341_2.fastq.gz\",\n",
        "  input_format = \"gzFASTQ\",\n",
        "  output_file = \"ERR12268341_rsubread.BAM\",\n",
        "  nthreads = 4\n",
        ")\n"
      ]
    },
    {
      "cell_type": "code",
      "execution_count": null,
      "metadata": {
        "id": "n2pQHbFM2g-A"
      },
      "outputs": [],
      "source": [
        "align(\n",
        "  index = \"mc_full_index_rsubread\",\n",
        "  readfile1 = \"ERR12268342_1.fastq.gz\",\n",
        "  readfile2 = \"ERR12268342_2.fastq.gz\",\n",
        "  input_format = \"gzFASTQ\",\n",
        "  output_file = \"ERR12268342_rsubread.BAM\",\n",
        "  nthreads = 4\n",
        ")"
      ]
    },
    {
      "cell_type": "code",
      "execution_count": null,
      "metadata": {
        "id": "OZuc5qS8GJRd"
      },
      "outputs": [],
      "source": [
        "install.packages(\"vcfR\")\n",
        "install.packages(\"ggplot2\")\n",
        "\n",
        "library(vcfR)\n",
        "library(ggplot2)\n",
        "\n"
      ]
    },
    {
      "cell_type": "code",
      "execution_count": null,
      "metadata": {
        "id": "TwkmFo6TSHQn"
      },
      "outputs": [],
      "source": [
        "vcf <- read.vcfR(\"/content/ERR12268342_snps.vcf\")\n",
        "\n"
      ]
    },
    {
      "cell_type": "code",
      "execution_count": null,
      "metadata": {
        "id": "UkEf4Br-Shtn"
      },
      "outputs": [],
      "source": [
        "summary(vcf)\n",
        "\n",
        "# View metadata\n",
        "head(vcf@fix)\n"
      ]
    },
    {
      "cell_type": "code",
      "execution_count": null,
      "metadata": {
        "id": "1Bx0x6JuSo6P"
      },
      "outputs": [],
      "source": [
        "vcf_df <- as.data.frame(vcf@fix)\n",
        "vcf_df$POS <- as.numeric(vcf_df$POS)\n",
        "\n",
        "ggplot(vcf_df, aes(x = POS)) +\n",
        "  geom_histogram(binwidth = 10000, fill = \"steelblue\") +\n",
        "  theme_minimal() +\n",
        "  labs(title = \"SNP Distribution Across Genome\",\n",
        "       x = \"Genomic Position\",\n",
        "       y = \"SNP Count (binwidth = 10kb)\")\n"
      ]
    },
    {
      "cell_type": "code",
      "execution_count": null,
      "metadata": {
        "id": "KIh3g2OpSsi2"
      },
      "outputs": [],
      "source": [
        "table(vcf_df$REF, vcf_df$ALT)\n"
      ]
    },
    {
      "cell_type": "markdown",
      "metadata": {
        "id": "_1vqDDPSYWwU"
      },
      "source": [
        "Extract Fixed Fields (CHROM, POS, REF, ALT)\n"
      ]
    },
    {
      "cell_type": "code",
      "execution_count": null,
      "metadata": {
        "id": "pmCBctDpChvW"
      },
      "outputs": [],
      "source": [
        "vcf_df <- as.data.frame(vcf@fix)\n",
        "head(vcf_df)\n"
      ]
    },
    {
      "cell_type": "code",
      "execution_count": null,
      "metadata": {
        "id": "m2Lysy97bjA2"
      },
      "outputs": [],
      "source": [
        "write.csv(vcf_df, \"variant_summary.csv\", row.names = FALSE)\n"
      ]
    },
    {
      "cell_type": "code",
      "execution_count": null,
      "metadata": {
        "id": "HTm_7cvnHnBX"
      },
      "outputs": [],
      "source": [
        "library(dplyr)\n",
        "vcf_df$POS <- as.numeric(vcf_df$POS)\n",
        "\n",
        "vcf_df_density <- vcf_df %>%\n",
        "  group_by(bin = cut(POS, breaks = seq(0, max(POS), by = 10000))) %>%\n",
        "  summarise(SNP_Count = n())\n",
        "\n",
        "vcf_df_density$bin_mid <- sapply(strsplit(as.character(vcf_df_density$bin), \",\"), function(x) {\n",
        "  mean(as.numeric(gsub(\"[^0-9.]\", \"\", x)))\n",
        "})\n",
        "\n",
        "ggplot(vcf_df_density, aes(x = bin_mid, y = SNP_Count)) +\n",
        "  geom_line(color = \"darkblue\") +\n",
        "  geom_smooth(se = FALSE, color = \"red\") +\n",
        "  theme_minimal() +\n",
        "  labs(title = \"SNP Density Across Genome\",\n",
        "       x = \"Genomic Position (binned, 10kb)\", y = \"SNP Count\")\n"
      ]
    },
    {
      "cell_type": "code",
      "execution_count": null,
      "metadata": {
        "id": "GqAeFPhJHsZG"
      },
      "outputs": [],
      "source": [
        "library(ggplot2)\n",
        "variant_table <- table(vcf_df$variant_type)\n",
        "df_variant <- as.data.frame(variant_table)\n",
        "\n",
        "ggplot(df_variant, aes(x = \"\", y = Freq, fill = Var1)) +\n",
        "  geom_bar(width = 1, stat = \"identity\") +\n",
        "  coord_polar(\"y\", start = 0) +\n",
        "  theme_void() +\n",
        "  labs(title = \"SNP Types: Transitions vs Transversions\") +\n",
        "  scale_fill_brewer(palette = \"Set2\")\n"
      ]
    },
    {
      "cell_type": "code",
      "execution_count": null,
      "metadata": {
        "id": "1Bw4KGQ0HxD1"
      },
      "outputs": [],
      "source": [
        "Ti <- sum(vcf_df$variant_type == \"Transition\")\n",
        "Tv <- sum(vcf_df$variant_type == \"Transversion\")\n",
        "Ti_Tv_Ratio <- Ti / Tv\n",
        "cat(\"Ti/Tv Ratio:\", Ti_Tv_Ratio, \"\\n\")\n"
      ]
    },
    {
      "cell_type": "code",
      "execution_count": null,
      "metadata": {
        "id": "uHkTD4BkH3re"
      },
      "outputs": [],
      "source": [
        "vcf_df$SNP_Class <- paste(vcf_df$REF, \"→\", vcf_df$ALT)\n",
        "\n",
        "ggplot(vcf_df, aes(x = SNP_Class)) +\n",
        "  geom_bar(fill = \"purple\") +\n",
        "  theme_minimal() +\n",
        "  coord_flip() +\n",
        "  labs(title = \"Base Substitution Patterns\",\n",
        "       x = \"Substitution\", y = \"Frequency\")\n"
      ]
    },
    {
      "cell_type": "code",
      "execution_count": null,
      "metadata": {
        "id": "WgxSc4v2W8qh"
      },
      "outputs": [],
      "source": [
        "if (!requireNamespace(\"BiocManager\", quietly = TRUE))\n",
        "    install.packages(\"BiocManager\")\n"
      ]
    },
    {
      "cell_type": "code",
      "execution_count": null,
      "metadata": {
        "id": "VvrcIOLMXLQV"
      },
      "outputs": [],
      "source": [
        "BiocManager::install(c(\"GenomicRanges\", \"rtracklayer\"))\n"
      ]
    },
    {
      "cell_type": "code",
      "execution_count": null,
      "metadata": {
        "id": "tbr4rFfxW7Zg"
      },
      "outputs": [],
      "source": [
        "library(GenomicRanges)\n",
        "library(rtracklayer)\n",
        "\n",
        "# Load GFF file\n",
        "gff <- import(\"/content/Mycobacterium_tuberculosis_H37Rv_annotation.gff\")\n",
        "\n",
        "# Load your VCF\n",
        "library(vcfR)\n",
        "vcf <- read.vcfR(\"/content/ERR12268342_snps.vcf\")\n",
        "vcf_df <- as.data.frame(vcf@fix)\n",
        "vcf_df$POS <- as.numeric(vcf_df$POS)\n",
        "\n",
        "# Convert VCF and GFF to GRanges\n",
        "vcf_gr <- GRanges(seqnames = vcf_df$CHROM, ranges = IRanges(start = vcf_df$POS, width = 1))\n",
        "genes_gr <- gff[gff$type == \"gene\"]\n",
        "\n",
        "# Find overlaps\n",
        "overlaps <- findOverlaps(vcf_gr, genes_gr)\n",
        "vcf_df$gene <- NA\n",
        "vcf_df$gene[queryHits(overlaps)] <- genes_gr$Name[subjectHits(overlaps)]\n",
        "\n",
        "head(vcf_df)\n"
      ]
    },
    {
      "cell_type": "markdown",
      "metadata": {
        "id": "t3Gqek4BbEiE"
      },
      "source": [
        "# **Gene-wise SNP Distribution**"
      ]
    },
    {
      "cell_type": "code",
      "execution_count": null,
      "metadata": {
        "id": "AESTQHsxa7Ih"
      },
      "outputs": [],
      "source": [
        "table(vcf_df$gene)\n"
      ]
    },
    {
      "cell_type": "markdown",
      "metadata": {
        "id": "mM9iSFRja__N"
      },
      "source": [
        "# **Filter for Coding Genes Only**"
      ]
    },
    {
      "cell_type": "code",
      "execution_count": null,
      "metadata": {
        "id": "wUW_CRs9a9WQ"
      },
      "outputs": [],
      "source": [
        "vcf_annotated <- vcf_df[!is.na(vcf_df$gene), ]\n"
      ]
    },
    {
      "cell_type": "markdown",
      "metadata": {
        "id": "YMVXy055bPX9"
      },
      "source": [
        "# **Focus on Known Antibiotic Resistance Genes**"
      ]
    },
    {
      "cell_type": "code",
      "execution_count": null,
      "metadata": {
        "id": "cycPJJEibTyK"
      },
      "outputs": [],
      "source": [
        "subset(vcf_df, gene %in% c(\"rpoB\", \"katG\", \"inhA\", \"gyrA\", \"gyrB\", \"embB\"))\n"
      ]
    },
    {
      "cell_type": "code",
      "execution_count": null,
      "metadata": {
        "id": "gCu96aJ2ZYxV"
      },
      "outputs": [],
      "source": [
        "library(ggplot2)\n",
        "top_genes <- as.data.frame(table(vcf_df$gene))\n",
        "top_genes <- top_genes[order(-top_genes$Freq), ][1:10, ]\n",
        "\n",
        "ggplot(top_genes, aes(x = reorder(Var1, Freq), y = Freq)) +\n",
        "  geom_bar(stat = \"identity\", fill = \"steelblue\") +\n",
        "  coord_flip() +\n",
        "  theme_minimal() +\n",
        "  labs(title = \"Top 10 Mutated Genes\",\n",
        "       x = \"Gene\", y = \"Number of SNPs\")\n"
      ]
    },
    {
      "cell_type": "code",
      "execution_count": null,
      "metadata": {
        "id": "KVYaJW9bZ8PL"
      },
      "outputs": [],
      "source": [
        "res_genes <- c(\"rpoB\", \"katG\", \"gyrA\", \"embB\", \"inhA\", \"pncA\")\n",
        "res_snp_df <- subset(vcf_df, gene %in% res_genes)\n"
      ]
    },
    {
      "cell_type": "code",
      "execution_count": null,
      "metadata": {
        "id": "YDQ9ByIcZ_5G"
      },
      "outputs": [],
      "source": [
        "mutation_table <- as.data.frame(table(vcf_df$gene))\n",
        "colnames(mutation_table) <- c(\"Gene\", \"Mutation_Count\")\n",
        "write.csv(mutation_table, \"gene_mutation_summary.csv\", row.names = FALSE)\n"
      ]
    }
  ],
  "metadata": {
    "colab": {
      "provenance": []
    },
    "kernelspec": {
      "display_name": "R",
      "name": "ir"
    },
    "language_info": {
      "name": "R"
    }
  },
  "nbformat": 4,
  "nbformat_minor": 0
}